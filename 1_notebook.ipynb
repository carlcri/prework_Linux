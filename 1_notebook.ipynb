{
 "cells": [
  {
   "attachments": {},
   "cell_type": "markdown",
   "metadata": {},
   "source": [
    "# Curso de Prework: Configuración de entorno de desarrollo en Linux\n",
    "\n",
    "Instructor: Enrique Devars\n",
    "\n",
    "\n",
    "## Herramientas WEB y Editor de Texto\n",
    "\n",
    "### Instalacion del Navegador y sus DevTools\n",
    "\n",
    "Para acceder a la terminal es muy sencillo, solo debes utilizar la siguiente combinacion de teclas: \n",
    "\n",
    "*CTRL + ALT + t*\n",
    "\n",
    "Para escribir caracteres especiales en LINUX-UBUNTU, y a diferencia de Windows donde es mucho mas sencillo, aqui es mucho mas complicado. \n",
    "\n",
    "Por ejemplo, vamos a escribir el caracter @, que en Windows se escribe con *ALT +64*. Sin embargo en Linux, se usa la siguienete combinacion, y el codigo en Hexadecimal, que para la arroba es 40.\n",
    "\n",
    "*CTRL + SHIFT + U* debe aparecer una underlined u\n",
    "\n",
    "40\n",
    "\n",
    "*CRTL + SHIFT*\n",
    "\n",
    "Y ENTER si es el caso.\n"
   ]
  },
  {
   "attachments": {},
   "cell_type": "markdown",
   "metadata": {},
   "source": [
    "Ahora si para instalar CHROME desde la consola:\n",
    "\n",
    "    wget https://dl.google.com/linux/direct/google-chrome-stable_current_amd64.deb\n",
    "\n",
    "    sudo dpkg -i google-chrome-stable_current_amd64.deb \n",
    "\n",
    "    google-chrome"
   ]
  },
  {
   "attachments": {},
   "cell_type": "markdown",
   "metadata": {},
   "source": [
    "Las DevTools son la opcion de *inspeccionar* que ya es bien conocida. Igualmente hay un curso de Debbuging con Google Chrome:\n",
    "\n",
    "https://platzi.com/cursos/devtools/\n",
    "\n"
   ]
  },
  {
   "attachments": {},
   "cell_type": "markdown",
   "metadata": {},
   "source": [
    "## Instalancion de Visual Studio Code\n",
    "\n",
    "Sin novedad. Nos centraremos en algunas extensiones utiles como:\n",
    "\n",
    "- prettier\n",
    "\n",
    "- Live Server: abrir poyectos de desarrollo web que continen un archivo index.html. Haciendo los cambios de manera automatica\n",
    "\n",
    "- Color Higlight\n",
    "\n",
    "- Bracket pair colorizer\n",
    "\n",
    "- Path intelligence: Visual Studio Code plugin that autocompletes filenames\n",
    "\n",
    "- Auto rename tag: Auto rename paired HTML/XML tag: muy util para desarrollo web\n",
    "\n",
    "- Material Icon Theme: Material Design Icons for Visual Studio Code\n"
   ]
  },
  {
   "attachments": {},
   "cell_type": "markdown",
   "metadata": {},
   "source": [
    "\n",
    "- Theme: escribe theme en la busqueda de extensiones. El instructor usa uno llamado Atom One Dark\n",
    "\n",
    "CTRL +SHIFT + P: opens the command paletter, and serach for theme: color theme, and look for atom theme\n"
   ]
  },
  {
   "attachments": {},
   "cell_type": "markdown",
   "metadata": {},
   "source": [
    "## Como usar live server en proyectos reales de CSS y Java Script\n",
    "\n",
    "Crear un folder: *my_first_web*, y dentro un *index.html*. Al abri el archivo por primera vez, tipiamos una abreviatura html, y seleccionamos la que dice *html 5*, y nos escribe un codigo muy basico sobre el que ya podemos trabajar sin empezar desde cero. \n",
    "\n",
    "Cambiemos el tag de titulo, click derecho sobre el archivo, y abramolo con  *Live Server*.\n",
    "\n",
    "Podremos seguir modificando el archivo, por ejemplo crear un header. sin tener que volver a cargarlo. Muy util. \n",
    "\n",
    "Ahora crearemos un *index.css* para guardar los estilos. Podemos vincular el archivo CSS antes o despues, lo haremos ahora mismo.\n",
    "\n",
    "Dentro del tag *head*, tipiamos link hasta que nos aparezca la abreviatura *link css*.\n",
    "\n",
    "Y dentro del css, le agregamos un *background color*. Guardamos y vemos los cambios. Muy sencillo\n",
    "\n",
    "    body {\n",
    "        background-color: aqua;\n",
    "    }\n"
   ]
  },
  {
   "attachments": {},
   "cell_type": "markdown",
   "metadata": {},
   "source": [
    "De igual forma creamos un archivo javascript para generar una alerta. Igualmente el archivo .js toca vincularlo dentro del .html en el tag *body*, tipiamos hasta que nos aparezca la abreviatura *script scr*. \n",
    "\n",
    "Y creamos la alerta dentro del .js:\n",
    "\n",
    "    alert(\"hello champ\")\n",
    "\n"
   ]
  },
  {
   "attachments": {},
   "cell_type": "markdown",
   "metadata": {},
   "source": [
    "## Comandos basicos de la terminal\n",
    "\n",
    "CTRL + L : limpiar pantalla abreviado"
   ]
  },
  {
   "attachments": {},
   "cell_type": "markdown",
   "metadata": {},
   "source": [
    "## Instalacion de Node JS\n",
    "\n",
    "*Node JS* es un entorno de ejecucion de Java Script. Para instalarlo:\n",
    "\n",
    "    sudo apt install nodejs  \n",
    "\n",
    "Para comprobar:\n",
    "\n",
    "    node -v\n",
    "\n",
    "Y nos reporta la ultima version es *v12.22.9*. Sin embargo hay una mejor manera de instalarlo, que en un principio puede parecer mas complicada, pero es la recomendada por el instructor. \n",
    "\n",
    "Vamos a desinstarlo:\n",
    "\n",
    "    sudo apt remove nodejs\n",
    "\n",
    "Vamos a instalar nodejs con **nvm: node version manager**, que nos permite instalar diferentes versiones de NODE JS.\n",
    "\n",
    "https://github.com/nvm-sh/nvm#manual-install\n",
    "\n",
    "    curl -o- https://raw.githubusercontent.com/nvm-sh/nvm/v0.39.3/install.sh | bash\n",
    "\n"
   ]
  },
  {
   "attachments": {},
   "cell_type": "markdown",
   "metadata": {},
   "source": [
    "Reinicia la terminal:\n",
    "\n",
    "    bash\n",
    "\n",
    "E instalamos la version LTS(long time support)\n",
    "\n",
    "    nvm install --lts\n",
    "    node -v\n",
    "\n",
    "Vemos que se instalo la *v18.13.0*\n"
   ]
  },
  {
   "attachments": {},
   "cell_type": "markdown",
   "metadata": {},
   "source": [
    "## Tu Primer Proyecto con React\n",
    "\n",
    "Partiendo de la instalacion de nodeJS. Vamos a la documentacion de *React JS*: A JavaScript library for building user interfaces\n",
    "\n",
    "### Create a new react App: \n",
    "\n",
    "https://reactjs.org/docs/create-a-new-react-app.html  \n",
    "\n",
    "Create React App is a comfortable environment for learning React, and is the best way to start building a new single-page application in React.\n",
    "\n",
    "It sets up your development environment so that you can use the latest JavaScript features, provides a nice developer experience, and optimizes your app for production. You’ll need to have Node >= 14.0.0 and npm >= 5.6 on your machine. To create a project, run:\n",
    "\n",
    "    npx create-react-app mi-primer-app\n",
    "\n",
    "Se ha creado la carpeta *mi-primer-app*\n",
    "\n",
    "    cd mi-primer-app\n",
    "    npm start"
   ]
  },
  {
   "attachments": {},
   "cell_type": "markdown",
   "metadata": {},
   "source": [
    "Al analizar el contendio de la carpeta, encontramos las carpetas public, y la carpeta src(source) donde esta todo el codigo fuente\n",
    "\n",
    "El comando *npm start* puede ejecutarse desde la terminal, o abriendo una desde Visual Studio COde. Para practicar, abrelo Visual Studio Code.\n",
    "\n",
    "Al ejecutarlo, aparece una nueva ventana con el simbolo de *React* y el siguiente texto:\n",
    "\n",
    "*Edit src/App.js and save to reload.*\n",
    "\n",
    "Vamos al archivo, y cambiamos la linea por un hola mundo, salvamos, y el resultado se refleja inmediatamente. \n",
    "\n",
    "Este Feature se llama *Hot Reloading* y Live Server y React las tienen"
   ]
  },
  {
   "attachments": {},
   "cell_type": "markdown",
   "metadata": {},
   "source": [
    "# Git y GitHub\n",
    "\n",
    "## Configurando nuestras credenciales en git\n",
    "\n",
    "    git config --global user.email \"mantillajulian234@gmail.com\"\n",
    "    \n",
    "    git config --global user.name \"julianC\"\n",
    "\n",
    "    git config --list\n",
    "\n",
    "Sin embargo para hacer el primer commit fue muy dificil. Toco hacerlo asi:\n",
    "\n",
    "    sudo git commit\n",
    "\n",
    "Luego entraba a ese molesto editor(NANO) y cerrarlo    "
   ]
  }
 ],
 "metadata": {
  "kernelspec": {
   "display_name": "Python 3",
   "language": "python",
   "name": "python3"
  },
  "language_info": {
   "name": "python",
   "version": "3.10.6 (main, Nov 14 2022, 16:10:14) [GCC 11.3.0]"
  },
  "orig_nbformat": 4,
  "vscode": {
   "interpreter": {
    "hash": "916dbcbb3f70747c44a77c7bcd40155683ae19c65e1c03b4aa3499c5328201f1"
   }
  }
 },
 "nbformat": 4,
 "nbformat_minor": 2
}
